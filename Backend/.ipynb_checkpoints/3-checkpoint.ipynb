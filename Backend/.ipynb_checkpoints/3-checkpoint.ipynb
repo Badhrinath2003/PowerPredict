{
 "cells": [
  {
   "cell_type": "code",
   "execution_count": 1,
   "id": "dac706e8",
   "metadata": {},
   "outputs": [
    {
     "name": "stdout",
     "output_type": "stream",
     "text": [
      " * Serving Flask app '__main__'\n",
      " * Debug mode: on\n"
     ]
    },
    {
     "name": "stderr",
     "output_type": "stream",
     "text": [
      "WARNING: This is a development server. Do not use it in a production deployment. Use a production WSGI server instead.\n",
      " * Running on http://127.0.0.1:5000\n",
      "Press CTRL+C to quit\n",
      " * Restarting with stat\n"
     ]
    },
    {
     "ename": "SystemExit",
     "evalue": "1",
     "output_type": "error",
     "traceback": [
      "An exception has occurred, use %tb to see the full traceback.\n",
      "\u001b[1;31mSystemExit\u001b[0m\u001b[1;31m:\u001b[0m 1\n"
     ]
    },
    {
     "name": "stderr",
     "output_type": "stream",
     "text": [
      "c:\\users\\reddy\\appdata\\local\\programs\\python\\python37\\lib\\site-packages\\IPython\\core\\interactiveshell.py:3561: UserWarning: To exit: use 'exit', 'quit', or Ctrl-D.\n",
      "  warn(\"To exit: use 'exit', 'quit', or Ctrl-D.\", stacklevel=1)\n"
     ]
    }
   ],
   "source": [
    "from flask import Flask, request, jsonify\n",
    "from flask_cors import CORS\n",
    "import pickle\n",
    "import pandas as pd\n",
    "import numpy as np\n",
    "import os\n",
    "\n",
    "app = Flask(__name__)\n",
    "CORS(app)\n",
    "\n",
    "# Load the pre-trained ARIMA model\n",
    "model_file = 'D:\\\\iomp\\\\dataset\\\\arima_model.pkl'\n",
    "\n",
    "def load_model():\n",
    "    if not os.path.exists(model_file):\n",
    "        raise FileNotFoundError(f\"Model file not found at {model_file}\")\n",
    "    with open(model_file, 'rb') as file:\n",
    "        model = pickle.load(file)\n",
    "    return model\n",
    "\n",
    "# API endpoint to receive year and month for prediction\n",
    "@app.route('/api', methods=['POST'])\n",
    "def predict_consumption():\n",
    "    try:\n",
    "        # Receive the year and month as CSV data\n",
    "        data = request.data.decode('utf-8')\n",
    "        year, month = map(int, data.split(','))\n",
    "\n",
    "        # Load the model\n",
    "        model = load_model()\n",
    "\n",
    "        # Forecast for the next step (adjust as needed based on model training)\n",
    "        forecast_steps = 1\n",
    "        forecast = model.forecast(steps=forecast_steps)\n",
    "\n",
    "        # Respond with the predicted consumption for the given month\n",
    "        prediction = forecast[-1]\n",
    "        return jsonify({'Prediction': [prediction]})\n",
    "    except Exception as e:\n",
    "        return jsonify({'error': str(e)}), 500\n",
    "\n",
    "if __name__ == '__main__':\n",
    "    try:\n",
    "        app.run(debug=True)\n",
    "    except Exception as e:\n",
    "        print(f\"Error starting the Flask app: {e}\")\n"
   ]
  },
  {
   "cell_type": "code",
   "execution_count": null,
   "id": "1733cf7b",
   "metadata": {},
   "outputs": [],
   "source": []
  }
 ],
 "metadata": {
  "kernelspec": {
   "display_name": "Python 3 (ipykernel)",
   "language": "python",
   "name": "python3"
  },
  "language_info": {
   "codemirror_mode": {
    "name": "ipython",
    "version": 3
   },
   "file_extension": ".py",
   "mimetype": "text/x-python",
   "name": "python",
   "nbconvert_exporter": "python",
   "pygments_lexer": "ipython3",
   "version": "3.7.0"
  }
 },
 "nbformat": 4,
 "nbformat_minor": 5
}
