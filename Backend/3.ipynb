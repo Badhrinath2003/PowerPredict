{
 "cells": [
  {
   "cell_type": "code",
   "execution_count": null,
   "id": "268afb93",
   "metadata": {},
   "outputs": [
    {
     "name": "stdout",
     "output_type": "stream",
     "text": [
      " * Serving Flask app '__main__'\n",
      " * Debug mode: off\n"
     ]
    },
    {
     "name": "stderr",
     "output_type": "stream",
     "text": [
      "WARNING: This is a development server. Do not use it in a production deployment. Use a production WSGI server instead.\n",
      " * Running on http://127.0.0.1:5000\n",
      "Press CTRL+C to quit\n",
      "127.0.0.1 - - [09/Dec/2024 06:54:50] \"POST /api HTTP/1.1\" 200 -\n",
      "127.0.0.1 - - [09/Dec/2024 06:54:51] \"POST /api HTTP/1.1\" 200 -\n",
      "127.0.0.1 - - [09/Dec/2024 06:54:55] \"POST /api HTTP/1.1\" 200 -\n",
      "127.0.0.1 - - [09/Dec/2024 06:54:56] \"POST /api HTTP/1.1\" 200 -\n",
      "127.0.0.1 - - [09/Dec/2024 06:55:00] \"POST /api HTTP/1.1\" 200 -\n",
      "127.0.0.1 - - [09/Dec/2024 06:55:03] \"POST /ap HTTP/1.1\" 404 -\n",
      "127.0.0.1 - - [09/Dec/2024 06:55:07] \"POST /api HTTP/1.1\" 200 -\n",
      "127.0.0.1 - - [09/Dec/2024 06:55:08] \"POST /api HTTP/1.1\" 200 -\n",
      "127.0.0.1 - - [09/Dec/2024 06:55:13] \"POST /api HTTP/1.1\" 200 -\n",
      "127.0.0.1 - - [09/Dec/2024 06:55:14] \"POST /api HTTP/1.1\" 200 -\n",
      "127.0.0.1 - - [09/Dec/2024 06:55:14] \"POST /api HTTP/1.1\" 200 -\n",
      "127.0.0.1 - - [09/Dec/2024 06:55:14] \"POST /api HTTP/1.1\" 200 -\n",
      "127.0.0.1 - - [09/Dec/2024 06:55:15] \"POST /api HTTP/1.1\" 200 -\n",
      "127.0.0.1 - - [09/Dec/2024 06:55:15] \"POST /api HTTP/1.1\" 200 -\n",
      "127.0.0.1 - - [09/Dec/2024 06:55:15] \"POST /api HTTP/1.1\" 200 -\n",
      "127.0.0.1 - - [09/Dec/2024 06:55:15] \"POST /api HTTP/1.1\" 200 -\n",
      "127.0.0.1 - - [09/Dec/2024 06:55:16] \"POST /api HTTP/1.1\" 200 -\n",
      "127.0.0.1 - - [09/Dec/2024 06:55:16] \"POST /api HTTP/1.1\" 200 -\n",
      "127.0.0.1 - - [09/Dec/2024 06:55:16] \"POST /api HTTP/1.1\" 200 -\n",
      "127.0.0.1 - - [09/Dec/2024 06:57:26] \"GET /main.b4f0288e2eaebffa2af4.hot-update.json HTTP/1.1\" 404 -\n",
      "127.0.0.1 - - [09/Dec/2024 06:57:26] \"GET /main.b4f0288e2eaebffa2af4.hot-update.json HTTP/1.1\" 404 -\n",
      "127.0.0.1 - - [09/Dec/2024 06:57:35] \"POST /api HTTP/1.1\" 200 -\n"
     ]
    }
   ],
   "source": [
    "from flask import Flask, request, jsonify\n",
    "import joblib\n",
    "\n",
    "app = Flask(__name__)\n",
    "\n",
    "model_file = 'D:\\\\iomp\\\\dataset\\\\arima_model.joblib'\n",
    "model = joblib.load(model_file)\n",
    "\n",
    "@app.route('/api', methods=['POST'])\n",
    "def predict_consumption():\n",
    "    try:\n",
    "        data = request.get_json()\n",
    "        year = int(data['year'])\n",
    "        month = int(data['month'])\n",
    "\n",
    "        forecast_steps = 1\n",
    "        forecast = model.forecast(steps=forecast_steps)\n",
    "        prediction = forecast[-1]\n",
    "        return jsonify({'Prediction': [prediction]})\n",
    "    except Exception as e:\n",
    "        print(f\"Backend Error: {e}\")\n",
    "        return jsonify({'error': 'Prediction failed. Check logs.'}), 500\n",
    "\n",
    "if __name__ == '__main__':\n",
    "    app.run(debug=False)\n"
   ]
  },
  {
   "cell_type": "code",
   "execution_count": null,
   "id": "7a2e2d64",
   "metadata": {},
   "outputs": [],
   "source": []
  }
 ],
 "metadata": {
  "kernelspec": {
   "display_name": "Python 3 (ipykernel)",
   "language": "python",
   "name": "python3"
  },
  "language_info": {
   "codemirror_mode": {
    "name": "ipython",
    "version": 3
   },
   "file_extension": ".py",
   "mimetype": "text/x-python",
   "name": "python",
   "nbconvert_exporter": "python",
   "pygments_lexer": "ipython3",
   "version": "3.7.0"
  }
 },
 "nbformat": 4,
 "nbformat_minor": 5
}
